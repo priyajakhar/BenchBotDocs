{
 "cells": [
  {
   "cell_type": "code",
   "execution_count": null,
   "id": "07894a58",
   "metadata": {},
   "outputs": [],
   "source": [
    "import pandas\n",
    "import cv2\n",
    "import numpy as np\n",
    "import time\n",
    "import math\n",
    "from datetime import timedelta\n",
    "import matplotlib.pyplot as plt"
   ]
  },
  {
   "cell_type": "code",
   "execution_count": null,
   "id": "f9993f7a",
   "metadata": {},
   "outputs": [],
   "source": [
    "# map_data = pandas.read_csv(\"biomassmini.csv\", delimiter=\";\", header=None)\n",
    "map_data = pandas.read_csv(\"full.csv\", delimiter=\";\", header=None)\n",
    "\n",
    "res = 4032*3040\n",
    "biomass = map_data[11]\n",
    "biomass = biomass/res * 100\n",
    "bio = biomass.astype(np.uint8)\n",
    "\n",
    "jet_custom = cv2.applyColorMap(np.arange(256, dtype=np.uint8), cv2.COLORMAP_JET)"
   ]
  },
  {
   "cell_type": "code",
   "execution_count": null,
   "id": "72ac4a4b",
   "metadata": {},
   "outputs": [],
   "source": [
    "# latitude difference calcs\n",
    "lat = np.asarray(map_data[2])\n",
    "\n",
    "lat = np.subtract(lat, lat[0])\n",
    "\n",
    "lat2 = np.empty(lat.shape)\n",
    "np.copyto(lat2, lat)\n",
    "lat2 = np.delete(lat2, 0)\n",
    "lat = np.delete(lat, -1)\n",
    "dx = np.subtract(lat,lat2)*1000000"
   ]
  },
  {
   "cell_type": "code",
   "execution_count": null,
   "id": "809cc4be",
   "metadata": {},
   "outputs": [],
   "source": [
    "# longitude difference calcs\n",
    "long = np.asarray(map_data[3])\n",
    "\n",
    "long = np.subtract(long, long[0])\n",
    "\n",
    "long2 = np.empty(long.shape)\n",
    "np.copyto(long2, long)\n",
    "long2 = np.delete(long2, 0)\n",
    "long = np.delete(long, -1)\n",
    "dy = np.subtract(long,long2)*1000000 #(1 = 0.111 m)"
   ]
  },
  {
   "cell_type": "code",
   "execution_count": null,
   "id": "5eb80c1a",
   "metadata": {},
   "outputs": [],
   "source": [
    "dirs = [ [1,0], [1,1], [0,1], [-1,1], [-1,0], [-1,-1], [0,-1], [1,-1] ]\n",
    "def getxy(r, theta):\n",
    "    if theta>337.5 or theta<22.5:\n",
    "        idx = 0\n",
    "    elif theta<67.5:\n",
    "        idx = 1\n",
    "    elif theta<112.5:\n",
    "        idx = 2\n",
    "    elif theta<157.5:\n",
    "        idx = 3\n",
    "    elif theta<202.5:\n",
    "        idx = 4\n",
    "    elif theta<247.5:\n",
    "        idx = 5\n",
    "    elif theta<292.5:\n",
    "        idx = 6\n",
    "    else:\n",
    "        idx = 7\n",
    "    fct = int(r/25)\n",
    "    return np.dot(fct,dirs[idx])"
   ]
  },
  {
   "cell_type": "code",
   "execution_count": null,
   "id": "5801f539",
   "metadata": {},
   "outputs": [],
   "source": [
    "def cart2pol(x, y):\n",
    "    rho = np.sqrt(x**2 + y**2)\n",
    "    phi = np.arctan2(y, x)\n",
    "    ang = math.degrees(phi)\n",
    "    if (ang<0): ang = 360+ang\n",
    "    return(rho, ang)\n",
    "\n",
    "x = []\n",
    "y = []\n",
    "\n",
    "for n in range(len(dx)):\n",
    "    r, t = cart2pol(dx[n], dy[n])\n",
    "    i, j = getxy(r, t)\n",
    "    x.append(i)\n",
    "    y.append(j)\n",
    "    \n",
    "# r, theta = cart2pol(3,4)\n",
    "# print(x, y)"
   ]
  },
  {
   "cell_type": "code",
   "execution_count": null,
   "id": "c3ba5b17",
   "metadata": {},
   "outputs": [],
   "source": [
    "map_img = np.ones((2048,2048,3), dtype=np.uint8)# * 255\n",
    "\n",
    "blc = 5\n",
    "i, j = 100, 300\n",
    "for n in range(len(x)):\n",
    "    i, j = i+x[n], j+y[n]\n",
    "    x1, x2 = blc*i, blc*i+blc\n",
    "    y1, y2 = blc*j, blc*j+blc\n",
    "    map_img[x1:x2, y1:y2] = jet_custom[bio[n]]\n",
    "\n",
    "cv2.imwrite(\"biomap.png\", map_img)\n",
    "plt.imshow(map_img), plt.axis('off')\n"
   ]
  }
 ],
 "metadata": {
  "kernelspec": {
   "display_name": "Python 3 (ipykernel)",
   "language": "python",
   "name": "python3"
  },
  "language_info": {
   "codemirror_mode": {
    "name": "ipython",
    "version": 3
   },
   "file_extension": ".py",
   "mimetype": "text/x-python",
   "name": "python",
   "nbconvert_exporter": "python",
   "pygments_lexer": "ipython3",
   "version": "3.10.4"
  }
 },
 "nbformat": 4,
 "nbformat_minor": 5
}
