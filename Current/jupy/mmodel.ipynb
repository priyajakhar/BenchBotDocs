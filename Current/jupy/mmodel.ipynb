{
 "cells": [
  {
   "cell_type": "code",
   "execution_count": 34,
   "id": "fa3b61a9",
   "metadata": {},
   "outputs": [],
   "source": [
    "import cv2\n",
    "import numpy as np\n",
    "import time\n",
    "import math\n",
    "import pandas\n",
    "from datetime import timedelta\n",
    "import matplotlib.pyplot as plt\n",
    "\n",
    "fps = np.array([1, 3, 5, 10, 15, 20])\n",
    "fps2 = np.array([3, 15])"
   ]
  },
  {
   "cell_type": "markdown",
   "id": "40d07b15",
   "metadata": {},
   "source": [
    "## 1 node"
   ]
  },
  {
   "cell_type": "code",
   "execution_count": 30,
   "id": "939d02db",
   "metadata": {},
   "outputs": [],
   "source": [
    "''' RGB '''\n",
    "# rgb unencoded 1024\n",
    "rgb_bw = np.array([18, 42, 66, 150, 195, 270])\n",
    "rgb_cpu_os = np.array([4, 6.3, 9.3, 17.8, 26.5, 38])\n",
    "rgb_cpu_rt = np.array([0.3, 0.4, 0.6, 1.2, 1.8, 2.6])\n",
    "\n",
    "# rgb encoded 1024\n",
    "rgbe_bw = np.array([2.3, 5.6, 9.75, 19.3, 24.5, 41.5])\n",
    "rgbe_cpu_os = np.array([2.5, 3.5, 6.5, 12.5, 14.5, 25.5])\n",
    "rgbe_cpu_rt = np.array([0.29, 0.4, 0.68, 1.3, 1.9, 2.8])\n",
    "\n",
    "''' LR '''\n",
    "# lr unencoded 800p\n",
    "lr_bw = np.array([31, 55, 110, 185, 260, 345])\n",
    "lr_cpu_os = np.array([5.9, 8, 12.5, 24.5, 37, 49])\n",
    "lr_cpu_rt = np.array([0.4, 0.55, 0.9, 1.9, 2.5, 3.5])\n",
    "\n",
    "# lr encoded 800p\n",
    "lre_bw = np.array([18, 71])\n",
    "lre_cpu_os = np.array([5.8, 25])\n",
    "lre_cpu_rt = np.array([1, 4.8])\n",
    "\n",
    "''' Depth '''\n",
    "# Depth 800p res SubPixel = T, Encoding = F\n",
    "depth_bw = np.array([31, 52.5, 80, 196, 251, 326])\n",
    "depth_cpu_os = np.array([6, 8.5, 12.8, 25.1, 37.9, 52.5])\n",
    "depth_cpu_rt = np.array([0.5, 0.8, 1.3, 2.6, 3.8, 6.5])\n"
   ]
  },
  {
   "cell_type": "code",
   "execution_count": 38,
   "id": "eaaab678",
   "metadata": {},
   "outputs": [],
   "source": [
    "# x = lre_cpu_rt\n",
    "# P = np.polyfit(fps2,x,3)\n",
    "# yn = np.poly1d(P)\n",
    "# print(P)\n",
    "# print(yn)\n",
    "# print(yn(fps))\n",
    "\n",
    "# plt.plot(fps, yn(fps), '*-', fps2, x, 'o')"
   ]
  },
  {
   "cell_type": "markdown",
   "id": "38320356",
   "metadata": {},
   "source": [
    "## 2 nodes"
   ]
  },
  {
   "cell_type": "code",
   "execution_count": 42,
   "id": "272398df",
   "metadata": {},
   "outputs": [],
   "source": [
    "''' RGB+LR '''\n",
    "# RGB uenc, LR: mostly similar to combo of 1-node data (RT)\n",
    "rgblr_bw = np.array([49.5, 80, 160, 310, 440, 560])\n",
    "rgblr_cpu_os = np.array([8, 13.5, 21.5, 43, 65, 96])\n",
    "rgblr_cpu_rt = np.array([0.6, 1.05, 1.7, 3.3, 5.6, 7.4])\n",
    "\n",
    "# RGB enc, LR: mostly similar to combo of 1-node data (RT)\n",
    "rgbelr_bw = np.array([35, 60, 79, 190, 274, 380])\n",
    "rgbelr_cpu_os = np.array([6.5, 10.5, 17.5, 35.5, 52.5, 75.5])\n",
    "rgbelr_cpu_rt = np.array([0.6, 1.05, 1.75, 3.45, 5.2, 10])\n"
   ]
  },
  {
   "cell_type": "code",
   "execution_count": null,
   "id": "481ed0cc",
   "metadata": {},
   "outputs": [],
   "source": [
    "# orig = rgblr_bw\n",
    "# combo = rgb_bw + lr_bw\n",
    "# orig = rgblr_cpu_os\n",
    "# combo = rgb_cpu_os + lr_cpu_os\n",
    "# orig = rgblr_cpu_rt\n",
    "# combo = rgb_cpu_rt + lr_cpu_rt\n",
    "\n",
    "# orig = rgbelr_bw\n",
    "# combo = rgbe_bw + lr_bw\n",
    "# orig = rgbelr_cpu_os\n",
    "# combo = rgbe_cpu_os + lr_cpu_os\n",
    "# orig = rgbelr_cpu_rt\n",
    "# combo = rgbe_cpu_rt + lr_cpu_rt\n",
    "\n",
    "# plt.plot(fps, orig, '*-', fps, combo, 'o-')\n",
    "# plt.legend([\"2-node\",\"1-node add\"])\n",
    "\n",
    "# diff = orig - combo"
   ]
  },
  {
   "cell_type": "code",
   "execution_count": 56,
   "id": "017d05c7",
   "metadata": {},
   "outputs": [],
   "source": [
    "''' RGB+Depth '''\n",
    "# RGB uenc, Depth SubPixel=T: mostly similar to combo of 1-node data (RT significant difference, 2-node higher)\n",
    "rgbdepth_bw = np.array([49.5, 100, 160, 300, 440, 540])\n",
    "rgbdepth_cpu_os = np.array([8, 13.6, 21.5, 44, 68.5, 99.94])\n",
    "rgbdepth_cpu_rt = np.array([0.7, 1.75, 2.9, 5.65, 9.1, 14])\n",
    "\n",
    "# RGB enc, Depth SubPixel=T: mostly similar to combo of 1-node data (RT significant difference, 2-node higher)\n",
    "rgbedepth_bw = np.array([35, 55, 115, 195, 286, 365])\n",
    "rgbedepth_cpu_os = np.array([7.5, 11.5, 18, 35.5, 56.5, 83.5])\n",
    "rgbedepth_cpu_rt = np.array([0.75, 1.8, 3, 5.9, 9.3, 17])\n"
   ]
  },
  {
   "cell_type": "code",
   "execution_count": 68,
   "id": "4327c1b4",
   "metadata": {},
   "outputs": [],
   "source": [
    "# orig = rgbdepth_bw\n",
    "# combo = rgb_bw + depth_bw\n",
    "# orig = rgbdepth_cpu_os\n",
    "# combo = rgb_cpu_os + depth_cpu_os\n",
    "# orig = rgbdepth_cpu_rt\n",
    "# combo = rgb_cpu_rt + depth_cpu_rt\n",
    "\n",
    "# orig = rgbedepth_bw\n",
    "# combo = rgbe_bw + depth_bw\n",
    "# orig = rgbedepth_cpu_os\n",
    "# combo = rgbe_cpu_os + depth_cpu_os\n",
    "# orig = rgbedepth_cpu_rt\n",
    "# combo = rgbe_cpu_rt + depth_cpu_rt\n",
    "\n",
    "# plt.plot(fps, orig, '*-', fps, combo, 'o-')\n",
    "# plt.legend([\"2-node\",\"1-node add\"])"
   ]
  },
  {
   "cell_type": "code",
   "execution_count": 69,
   "id": "c0ead078",
   "metadata": {},
   "outputs": [],
   "source": [
    "''' LR+Depth '''\n",
    "# LR uenc, Depth SubPixel=T: combo of 1-node data slightly higher in all 3\n",
    "lrdepth_bw = np.array([62, 115, 150, 320, 480, 644])\n",
    "lrdepth_cpu_os = np.array([8.5, 12.5, 20, 39, 58.5, 79.5])\n",
    "lrdepth_cpu_rt = np.array([0.7, 0.99, 1.65, 3.2, 4.8, 7.5])\n",
    "\n",
    "# LR enc, Depth SubPixel=T: combo of 1-node data slightly higher in all 3 (more so in CPU)\n",
    "lredepth_bw = np.array([37, 63, 115, 225, 315, 400])\n",
    "lredepth_cpu_os = np.array([7.7, 9.5, 15.3, 30.6, 45.5, 63.75])\n",
    "lredepth_cpu_rt = np.array([0.99, 1.5, 2.4, 4.7, 7.03, 9.5])\n"
   ]
  },
  {
   "cell_type": "code",
   "execution_count": 80,
   "id": "316acdd7",
   "metadata": {},
   "outputs": [],
   "source": [
    "# orig = lrdepth_bw\n",
    "# combo = lr_bw + depth_bw\n",
    "# orig = lrdepth_cpu_os\n",
    "# combo = lr_cpu_os + depth_cpu_os\n",
    "# orig = lrdepth_cpu_rt\n",
    "# combo = lr_cpu_rt + depth_cpu_rt\n",
    "\n",
    "# orig = lredepth_bw\n",
    "# P = [5.63082525e-03, 8.53778743e-02, 1.30886468e+00, 1.31529728e+01]\n",
    "# yn = np.poly1d(P)\n",
    "# lre_bw = yn(fps)\n",
    "# combo = lre_bw + depth_bw\n",
    "# orig = lredepth_cpu_os\n",
    "# P = [2.06868343e-03, 3.11505054e-02, 4.62128227e-01, 4.07740632e+00]\n",
    "# yn = np.poly1d(P)\n",
    "# lre_cpu_os = yn(fps)\n",
    "# combo = lre_cpu_os + depth_cpu_os\n",
    "# orig = lredepth_cpu_rt\n",
    "# P = [4.15345053e-04, 6.21059214e-03, 8.89947383e-02, 6.65906140e-01]\n",
    "# yn = np.poly1d(P)\n",
    "# lre_cpu_rt = yn(fps)\n",
    "# combo = lre_cpu_rt + depth_cpu_rt\n",
    "\n",
    "# plt.plot(fps, orig, '*-', fps, combo, 'o-')\n",
    "# plt.legend([\"2-node\",\"1-node add\"])"
   ]
  },
  {
   "cell_type": "markdown",
   "id": "f2833394",
   "metadata": {},
   "source": [
    "## Full Pipeline"
   ]
  },
  {
   "cell_type": "code",
   "execution_count": 85,
   "id": "5cdd2029",
   "metadata": {},
   "outputs": [],
   "source": [
    "''' RGB + LR + Depth '''\n",
    "rgblrdepth_bw = np.array([85, 155, 235, 435, 645, 660])\n",
    "rgblrdepth_cpu_os = np.array([12.5, 17.5, 29, 57, 94.5, 99.99])\n",
    "rgblrdepth_cpu_rt = np.array([0.75, 1.95, 3.2, 6.4, 10, 10.5])\n",
    "\n",
    "# 3-node bw lower\n",
    "# orig = rgblrdepth_bw\n",
    "# combo = rgb_bw + lr_bw + depth_bw\n",
    "\n",
    "# somewhat similar but 3-node is lower\n",
    "# orig = rgblrdepth_cpu_os\n",
    "# combo = rgb_cpu_os + lr_cpu_os + depth_cpu_os\n",
    "\n",
    "# somewhat similar but 3-node is higher\n",
    "# orig = rgblrdepth_cpu_rt\n",
    "# combo = rgb_cpu_rt + lr_cpu_rt + depth_cpu_rt\n",
    "\n",
    "# plt.plot(fps, orig, '*-', fps, combo, 'o-')\n",
    "# plt.legend([\"3-node\",\"1-node add\"])"
   ]
  },
  {
   "cell_type": "code",
   "execution_count": 89,
   "id": "0f3b11e0",
   "metadata": {},
   "outputs": [],
   "source": [
    "''' RGB enc + LR + Depth '''\n",
    "rgbelrdepth_bw = np.array([51, 115, 195, 353, 515, 565])\n",
    "rgbelrdepth_cpu_os = np.array([10.5, 15.5, 25.5, 50, 79, 99.99])\n",
    "rgbelrdepth_cpu_rt = np.array([0.8, 2, 3.3, 6.5, 10.5, 13])\n",
    "\n",
    "# somewhat similar, 3-node bw slightly lower\n",
    "# orig = rgbelrdepth_bw\n",
    "# combo = rgbe_bw + lr_bw + depth_bw\n",
    "\n",
    "# somewhat similar but 3-node is lower\n",
    "# orig = rgbelrdepth_cpu_os\n",
    "# combo = rgbe_cpu_os + lr_cpu_os + depth_cpu_os\n",
    "\n",
    "# somewhat similar but 3-node is higher\n",
    "# orig = rgbelrdepth_cpu_rt\n",
    "# combo = rgbe_cpu_rt + lr_cpu_rt + depth_cpu_rt\n",
    "\n",
    "# plt.plot(fps, orig, '*-', fps, combo, 'o-')\n",
    "# plt.legend([\"3-node\",\"1-node add\"])"
   ]
  },
  {
   "cell_type": "code",
   "execution_count": 94,
   "id": "2f581746",
   "metadata": {},
   "outputs": [],
   "source": [
    "''' RGB enc + LR enc + Depth '''\n",
    "rgbelredepth_bw = np.array([39, 65, 115, 235, 315, 435])\n",
    "rgbelredepth_cpu_os = np.array([8.5, 12.3, 20.5, 40, 62.5, 94.5])\n",
    "rgbelredepth_cpu_rt = np.array([1.65, 2.5, 4.1, 8, 11.8, 21])\n",
    "\n",
    "# somewhat similar, 3-node bw slightly lower\n",
    "# orig = rgbelredepth_bw\n",
    "# P = [5.63082525e-03, 8.53778743e-02, 1.30886468e+00, 1.31529728e+01]\n",
    "# yn = np.poly1d(P)\n",
    "# lre_bw = yn(fps)\n",
    "# combo = rgbe_bw + lre_bw + depth_bw\n",
    "\n",
    "# somewhat similar but 3-node is lower\n",
    "# orig = rgbelredepth_cpu_os\n",
    "# P = [2.06868343e-03, 3.11505054e-02, 4.62128227e-01, 4.07740632e+00]\n",
    "# yn = np.poly1d(P)\n",
    "# lre_cpu_os = yn(fps)\n",
    "# combo = rgbe_cpu_os + lre_cpu_os + depth_cpu_os\n",
    "\n",
    "# somewhat similar but 3-node is higher\n",
    "# orig = rgbelredepth_cpu_rt\n",
    "# P = [4.15345053e-04, 6.21059214e-03, 8.89947383e-02, 6.65906140e-01]\n",
    "# yn = np.poly1d(P)\n",
    "# lre_cpu_rt = yn(fps)\n",
    "# combo = rgbe_cpu_rt + lre_cpu_rt + depth_cpu_rt\n",
    "\n",
    "# plt.plot(fps, orig, '*-', fps, combo, 'o-')\n",
    "# plt.legend([\"3-node\",\"1-node add\"])"
   ]
  },
  {
   "cell_type": "markdown",
   "id": "2e6eed80",
   "metadata": {},
   "source": [
    "## Multicamera"
   ]
  },
  {
   "cell_type": "code",
   "execution_count": 101,
   "id": "ebe4fc9d",
   "metadata": {},
   "outputs": [
    {
     "data": {
      "text/plain": [
       "<matplotlib.legend.Legend at 0x12484bb20>"
      ]
     },
     "execution_count": 101,
     "metadata": {},
     "output_type": "execute_result"
    },
    {
     "data": {
      "image/png": "[encoded data removed]",
      "text/plain": [
       "<Figure size 640x480 with 1 Axes>"
      ]
     },
     "metadata": {},
     "output_type": "display_data"
    }
   ],
   "source": [
    "cam_1_bw = np.array([2.3, 5.6, 9.75, 19.3, 24.5, 41.5])\n",
    "cam_2_bw = np.array([4.6, 10.8, 17.5, 34.8, 51.3, 65])\n",
    "cam_4_bw = np.array([11, 17.9, 41.6, 104, 124, 125])\n",
    "cam_8_bw = np.array([21.5, 58.4, 80.2, 164, 225, 294])\n",
    "\n",
    "orig = cam_2_bw\n",
    "combo = 2*cam_1_bw\n",
    "# orig = cam_4_bw\n",
    "# combo = 4*cam_1_bw\n",
    "# orig = cam_8_bw\n",
    "# combo = 8*cam_1_bw\n",
    "\n",
    "# orig = cam_4_bw\n",
    "# combo = 2*cam_2_bw\n",
    "# orig = cam_8_bw\n",
    "# combo = 4*cam_2_bw\n",
    "\n",
    "# orig = cam_8_bw\n",
    "# combo = 2*cam_4_bw\n",
    "\n",
    "plt.plot(fps, orig, '*-', fps, combo, 'o-')\n",
    "plt.legend([\"original\",\"combo\"])"
   ]
  },
  {
   "cell_type": "code",
   "execution_count": null,
   "id": "7eb8535b",
   "metadata": {},
   "outputs": [],
   "source": []
  },
  {
   "cell_type": "code",
   "execution_count": null,
   "id": "e3014827",
   "metadata": {},
   "outputs": [],
   "source": []
  },
  {
   "cell_type": "code",
   "execution_count": null,
   "id": "23138bf0",
   "metadata": {},
   "outputs": [],
   "source": []
  },
  {
   "cell_type": "code",
   "execution_count": 60,
   "id": "4971257c",
   "metadata": {},
   "outputs": [],
   "source": [
    "# Find equation of lines\n",
    "# plot(fps,yfit,'r-.')\n",
    "# x = rgbdepth_cpu_rt\n",
    "# P = np.polyfit(fps,x,3)\n",
    "# print(P)\n",
    "# yn = np.poly1d(P)\n",
    "\n",
    "# Plotting on a straight line\n",
    "# plt.plot(fps, yn(fps), '*-', fps, x, 'o')"
   ]
  },
  {
   "cell_type": "code",
   "execution_count": null,
   "id": "df5451b2",
   "metadata": {},
   "outputs": [],
   "source": []
  },
  {
   "cell_type": "code",
   "execution_count": null,
   "id": "6f725ee4",
   "metadata": {},
   "outputs": [],
   "source": []
  },
  {
   "cell_type": "code",
   "execution_count": null,
   "id": "028eab11",
   "metadata": {},
   "outputs": [],
   "source": [
    "# use polynomial value to predict value\n",
    "# rgb_bw = np.array([18, 42, 66, 150, 195, 270])\n",
    "# fps = np.array([1, 3, 5, 10, 15, 20])\n",
    "\n",
    "# P =[ 6.67085639e-03, -2.53951813e-01, 1.58764829e+01, -1.14986498e+00]\n",
    "# yn = np.poly1d(P)\n",
    "# fps2 = np.array([1, 2, 7, 12, 17, 20])\n",
    "\n",
    "# plt.plot(fps2, yn(fps2),'*-', fps,rgb_bw,'o')"
   ]
  },
  {
   "cell_type": "code",
   "execution_count": null,
   "id": "f052640e",
   "metadata": {},
   "outputs": [],
   "source": [
    "plt.legend(['1 Camera', '2 Cameras', '4 Cameras', '8 Cameras'])\n",
    "plt.title(\"Full Pipeline\")\n",
    "plt.ylabel(\"Bandwidth (Mb)\")\n",
    "plt.xlabel(\"FPS\")"
   ]
  },
  {
   "cell_type": "code",
   "execution_count": null,
   "id": "00fcea37",
   "metadata": {},
   "outputs": [],
   "source": []
  }
 ],
 "metadata": {
  "kernelspec": {
   "display_name": "Python 3 (ipykernel)",
   "language": "python",
   "name": "python3"
  },
  "language_info": {
   "codemirror_mode": {
    "name": "ipython",
    "version": 3
   },
   "file_extension": ".py",
   "mimetype": "text/x-python",
   "name": "python",
   "nbconvert_exporter": "python",
   "pygments_lexer": "ipython3",
   "version": "3.10.4"
  }
 },
 "nbformat": 4,
 "nbformat_minor": 5
}
